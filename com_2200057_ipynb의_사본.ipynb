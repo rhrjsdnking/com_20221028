{
  "nbformat": 4,
  "nbformat_minor": 0,
  "metadata": {
    "colab": {
      "provenance": [],
      "authorship_tag": "ABX9TyPlPfH7cgt9whnU5HISTRD/",
      "include_colab_link": true
    },
    "kernelspec": {
      "name": "python3",
      "display_name": "Python 3"
    },
    "language_info": {
      "name": "python"
    }
  },
  "cells": [
    {
      "cell_type": "markdown",
      "metadata": {
        "id": "view-in-github",
        "colab_type": "text"
      },
      "source": [
        "<a href=\"https://colab.research.google.com/github/rhrjsdnking/com_20221028/blob/main/com_2200057_ipynb%EC%9D%98_%EC%82%AC%EB%B3%B8.ipynb\" target=\"_parent\"><img src=\"https://colab.research.google.com/assets/colab-badge.svg\" alt=\"Open In Colab\"/></a>"
      ]
    },
    {
      "cell_type": "code",
      "execution_count": null,
      "metadata": {
        "colab": {
          "base_uri": "https://localhost:8080/"
        },
        "id": "guLdFwiF94Rk",
        "outputId": "ff474038-3080-4183-a01a-f1c097b15d6e"
      },
      "outputs": [
        {
          "output_type": "stream",
          "name": "stdout",
          "text": [
            "3개의 값을 입력하시오.\n",
            "x의 값을 입력하시오.: 1\n",
            "y의 값을 입력하시오.: 1\n",
            "z의 값을 입력하시오.: 1\n",
            "변경된 값은 : 2 2 2 로 변경되었습니다.\n"
          ]
        }
      ],
      "source": [
        "print(\"3개의 값을 입력하시오.\")\n",
        "x = int(input(\"x의 값을 입력하시오.: \"))\n",
        "y = int(input(\"y의 값을 입력하시오.: \"))\n",
        "z = int(input(\"z의 값을 입력하시오.: \"))\n",
        "x = x + 1\n",
        "y = y + 1\n",
        "z = z + 1\n",
        "print(\"변경된 값은 :\", x, y, z, \"로 변경되었습니다.\")"
      ]
    },
    {
      "cell_type": "code",
      "source": [
        "total = 0\n",
        "counter = 1\n",
        "while counter <= 10:\n",
        "  grade = int(input(\"점수를 입력하시오.: \"))\n",
        "  total = grade + total\n",
        "  counter = counter + 1\n",
        "average = total / 10\n",
        "print(average)"
      ],
      "metadata": {
        "id": "wEKMmZZCwZmG",
        "outputId": "ef9ed04f-8f73-4555-87e5-f5c0a915f680",
        "colab": {
          "base_uri": "https://localhost:8080/"
        }
      },
      "execution_count": null,
      "outputs": [
        {
          "output_type": "stream",
          "name": "stdout",
          "text": [
            "점수를 입력하시오.: 10\n",
            "점수를 입력하시오.: 10\n",
            "점수를 입력하시오.: 10\n",
            "점수를 입력하시오.: 10\n",
            "점수를 입력하시오.: 10\n",
            "점수를 입력하시오.: 10\n",
            "점수를 입력하시오.: 10\n",
            "점수를 입력하시오.: 10\n",
            "점수를 입력하시오.: 10\n",
            "점수를 입력하시오.: 10\n",
            "10.0\n"
          ]
        }
      ]
    },
    {
      "cell_type": "code",
      "source": [
        "x = 10\n",
        "y = 2\n",
        "result = x + y\n",
        "print(result)"
      ],
      "metadata": {
        "id": "K9MufsvcwhtY",
        "outputId": "10dd6d48-0347-4d32-edd9-2d3e53e6e002",
        "colab": {
          "base_uri": "https://localhost:8080/"
        }
      },
      "execution_count": null,
      "outputs": [
        {
          "output_type": "stream",
          "name": "stdout",
          "text": [
            "12\n"
          ]
        }
      ]
    },
    {
      "cell_type": "code",
      "source": [
        "print(\"Hello World! 안녕 파이썬!\");"
      ],
      "metadata": {
        "id": "D1pMR-Ydwl42",
        "outputId": "806070bb-de9a-4a63-c2b7-77505b0c779a",
        "colab": {
          "base_uri": "https://localhost:8080/"
        }
      },
      "execution_count": null,
      "outputs": [
        {
          "output_type": "stream",
          "name": "stdout",
          "text": [
            "Hello World! 안녕 파이썬!\n"
          ]
        }
      ]
    },
    {
      "cell_type": "code",
      "source": [
        "\n",
        "print(\"현재 환율을 입력하시오\")\n",
        "exchange_rate = int(input(\"달러의 환율금액을 입력: \"))\n",
        "won = int(input(\"한화금액을 입력하시오.: \"))\n",
        "usd = won + exchange_rate\n",
        "print(usd)"
      ],
      "metadata": {
        "colab": {
          "base_uri": "https://localhost:8080/"
        },
        "id": "ZS8NBLa9MJQI",
        "outputId": "f85e6633-53c4-46e8-cf1b-44148eb86cc2"
      },
      "execution_count": null,
      "outputs": [
        {
          "output_type": "stream",
          "name": "stdout",
          "text": [
            "현재 환율을 입력하시오\n",
            "달러의 환율금액을 입력: 1600\n",
            "한화금액을 입력하시오.: 160\n",
            "1760\n"
          ]
        }
      ]
    },
    {
      "cell_type": "code",
      "source": [
        "\n",
        "print(4+3);"
      ],
      "metadata": {
        "id": "p29yQZXTwnam",
        "outputId": "94dfecbb-642f-4c95-c814-8ee960b86290",
        "colab": {
          "base_uri": "https://localhost:8080/"
        }
      },
      "execution_count": null,
      "outputs": [
        {
          "output_type": "stream",
          "name": "stdout",
          "text": [
            "7\n"
          ]
        }
      ]
    },
    {
      "cell_type": "code",
      "source": [
        "\n",
        "print(\"#\" * 10)\n",
        "print(\"# 안녕하세요? #\")\n",
        "print(\"#\" * 10)\n",
        "     "
      ],
      "metadata": {
        "id": "Rl75jnFMwpOO",
        "outputId": "502d0e7e-bbfc-4b9e-f700-abce02323e7c",
        "colab": {
          "base_uri": "https://localhost:8080/"
        }
      },
      "execution_count": null,
      "outputs": [
        {
          "output_type": "stream",
          "name": "stdout",
          "text": [
            "##########\n",
            "# 안녕하세요? #\n",
            "##########\n"
          ]
        }
      ]
    },
    {
      "cell_type": "code",
      "source": [
        "\n",
        "won = 10000\n",
        "usd = won * 1418\n",
        "print(usd)"
      ],
      "metadata": {
        "id": "HeLyKCRHwtKm",
        "outputId": "a41a76b3-6669-4321-edd4-c34f3ee2ecf2",
        "colab": {
          "base_uri": "https://localhost:8080/"
        }
      },
      "execution_count": null,
      "outputs": [
        {
          "output_type": "stream",
          "name": "stdout",
          "text": [
            "14180000\n"
          ]
        }
      ]
    },
    {
      "cell_type": "code",
      "source": [
        "fahrenheit = 100\n",
        "celsius = fahrenheit - 32\n",
        "celsius = celsius * 5\n",
        "celsius = celsius / 9\n",
        "print(celsius)"
      ],
      "metadata": {
        "colab": {
          "base_uri": "https://localhost:8080/"
        },
        "id": "_tE7KOdvPcT4",
        "outputId": "39108573-cd71-481a-fd1a-c7a3cecbfb5c"
      },
      "execution_count": null,
      "outputs": [
        {
          "output_type": "stream",
          "name": "stdout",
          "text": [
            "37.77777777777778\n"
          ]
        }
      ]
    },
    {
      "cell_type": "code",
      "source": [
        "fahrenheit = 100\n",
        "ceisius = 5 * (fahrenheit-32)/9\n",
        "print(ceisius)\n"
      ],
      "metadata": {
        "id": "PF-B31pMQCXo",
        "outputId": "a100bc16-780e-47ab-d700-8737ea43694b",
        "colab": {
          "base_uri": "https://localhost:8080/"
        }
      },
      "execution_count": null,
      "outputs": [
        {
          "output_type": "stream",
          "name": "stdout",
          "text": [
            "37.77777777777778\n"
          ]
        }
      ]
    }
  ]
}