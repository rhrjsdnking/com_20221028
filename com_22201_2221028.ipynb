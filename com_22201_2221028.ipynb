{
  "nbformat": 4,
  "nbformat_minor": 0,
  "metadata": {
    "colab": {
      "provenance": [],
      "authorship_tag": "ABX9TyMSasc3yusSa5q2IYCF/DHR",
      "include_colab_link": true
    },
    "kernelspec": {
      "name": "python3",
      "display_name": "Python 3"
    },
    "language_info": {
      "name": "python"
    }
  },
  "cells": [
    {
      "cell_type": "markdown",
      "metadata": {
        "id": "view-in-github",
        "colab_type": "text"
      },
      "source": [
        "<a href=\"https://colab.research.google.com/github/rhrjsdnking/com_20221028/blob/main/com_22201_2221028.ipynb\" target=\"_parent\"><img src=\"https://colab.research.google.com/assets/colab-badge.svg\" alt=\"Open In Colab\"/></a>"
      ]
    },
    {
      "cell_type": "code",
      "execution_count": 11,
      "metadata": {
        "colab": {
          "base_uri": "https://localhost:8080/"
        },
        "id": "guLdFwiF94Rk",
        "outputId": "ff474038-3080-4183-a01a-f1c097b15d6e"
      },
      "outputs": [
        {
          "output_type": "stream",
          "name": "stdout",
          "text": [
            "3개의 값을 입력하시오.\n",
            "x의 값을 입력하시오.: 1\n",
            "y의 값을 입력하시오.: 1\n",
            "z의 값을 입력하시오.: 1\n",
            "변경된 값은 : 2 2 2 로 변경되었습니다.\n"
          ]
        }
      ],
      "source": [
        "print(\"3개의 값을 입력하시오.\")\n",
        "x = int(input(\"x의 값을 입력하시오.: \"))\n",
        "y = int(input(\"y의 값을 입력하시오.: \"))\n",
        "z = int(input(\"z의 값을 입력하시오.: \"))\n",
        "x = x + 1\n",
        "y = y + 1\n",
        "z = z + 1\n",
        "print(\"변경된 값은 :\", x, y, z, \"로 변경되었습니다.\")"
      ]
    },
    {
      "cell_type": "code",
      "source": [
        "print(\"현재 환율을 입력하시오\")\n",
        "exchange_rate = int(input(\"달러의 환율금액을 입력: \"))\n",
        "won = int(input(\"한화금액을 입력하시오.: \"))\n",
        "usd = won + exchange_rate\n",
        "print(usd)"
      ],
      "metadata": {
        "colab": {
          "base_uri": "https://localhost:8080/"
        },
        "id": "ZS8NBLa9MJQI",
        "outputId": "39e01a75-595a-42c7-a203-9e21ef2e8475"
      },
      "execution_count": 14,
      "outputs": [
        {
          "output_type": "stream",
          "name": "stdout",
          "text": [
            "현재 환율을 입력하시오\n",
            "달러의 환율금액을 입력: 1418\n",
            "한화금액을 입력하시오.: 5000\n",
            "6418\n"
          ]
        }
      ]
    },
    {
      "cell_type": "code",
      "source": [
        "fahrenheit = 100\n",
        "celsius = fahrenheit - 32\n",
        "celsius = celsius * 5\n",
        "celsius = celsius / 9\n",
        "print(celsius)"
      ],
      "metadata": {
        "colab": {
          "base_uri": "https://localhost:8080/"
        },
        "id": "_tE7KOdvPcT4",
        "outputId": "7edaaca5-e6fd-43fb-9347-99153d8b32f6"
      },
      "execution_count": 13,
      "outputs": [
        {
          "output_type": "stream",
          "name": "stdout",
          "text": [
            "37.77777777777778\n"
          ]
        }
      ]
    },
    {
      "cell_type": "code",
      "source": [
        "fahrenheit = 100\n"
      ],
      "metadata": {
        "id": "PF-B31pMQCXo"
      },
      "execution_count": 13,
      "outputs": []
    }
  ]
}